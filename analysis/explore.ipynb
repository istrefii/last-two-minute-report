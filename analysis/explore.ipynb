{
 "cells": [
  {
   "cell_type": "code",
   "execution_count": 1,
   "metadata": {
    "collapsed": false
   },
   "outputs": [],
   "source": [
    "import agate\n",
    "import math\n",
    "\n",
    "specified_types = {\n",
    "    'period': agate.Text(),\n",
    "    'time': agate.Text(),\n",
    "    'seconds_left': agate.Number(),\n",
    "    'call_type': agate.Text(),\n",
    "    'committing_player': agate.Text(),\n",
    "    'disadvantaged_player': agate.Text(),\n",
    "    'review_decision': agate.Text(),\n",
    "    'comment': agate.Text(),\n",
    "    'video': agate.Text(),\n",
    "    'committing_team': agate.Text(),\n",
    "    'disadvantaged_team': agate.Text(),\n",
    "    'game_id': agate.Text(),\n",
    "    'play_id': agate.Text(),\n",
    "    'away': agate.Text(),\n",
    "    'home': agate.Text(),\n",
    "    'date': agate.Text(),\n",
    "    'ref_1': agate.Text(),\n",
    "    'ref_2': agate.Text(),\n",
    "    'ref_3': agate.Text(),\n",
    "    'score_away': agate.Number(),\n",
    "    'score_home': agate.Number(),\n",
    "    'original_pdf': agate.Text(),\n",
    "    'box_score_url': agate.Text(),\n",
    "    'ref_made_call': agate.Text()\n",
    "}\n",
    "\n",
    "data = agate.Table.from_csv('../output/all_games.csv', column_types=specified_types)\n",
    "incorrect = data.where(lambda r: r['review_decision'] in ['IC', 'INC'])\n",
    "ic = incorrect.where(lambda r: r['review_decision'] == 'IC')\n",
    "inc = incorrect.where(lambda r: r['review_decision'] == 'INC')"
   ]
  },
  {
   "cell_type": "code",
   "execution_count": 2,
   "metadata": {
    "collapsed": false
   },
   "outputs": [],
   "source": [
    "# game data and play data\n",
    "game_include = ['game_id', 'away', 'home', 'date', 'ref_1', 'ref_2', 'ref_3', 'score_away', 'score_home', 'original_pdf','box_score_url']\n",
    "\n",
    "by_game = incorrect.group_by('game_id')\n",
    "\n",
    "by_game_with_count = by_game.aggregate([\n",
    "    ('incorrect', agate.Count())\n",
    "])\n",
    "\n",
    "game_data = data.select(game_include).distinct()\n",
    "\n",
    "# merge\n",
    "game_data_merged = game_data.join(by_game_with_count, 'game_id','game_id')\n",
    "game_data_merged.to_csv('output/web_games.csv')"
   ]
  },
  {
   "cell_type": "code",
   "execution_count": 3,
   "metadata": {
    "collapsed": false
   },
   "outputs": [],
   "source": [
    "play_include = ['game_id', 'period', 'time', 'seconds_left', 'call_type', 'committing_player', 'disadvantaged_player','review_decision', 'comment', 'video', 'committing_team', 'disadvantaged_team' ,'play_id', 'ref_made_call']\n",
    "play_data = data.select(play_include)\n",
    "play_data.to_csv('output/web_plays.csv')"
   ]
  },
  {
   "cell_type": "code",
   "execution_count": 4,
   "metadata": {
    "collapsed": false
   },
   "outputs": [],
   "source": [
    "# basic stats\n",
    "by_game = data.group_by('game_id')\n",
    "\n",
    "game_count = by_game.aggregate([\n",
    "    ('count', agate.Count())\n",
    "])\n",
    "\n",
    "num_games = len(game_count.rows)\n",
    "num_calls = len(data.rows)\n",
    "num_calls_incorrect = len(incorrect.rows)\n",
    "percent_incorrect = float(num_calls_incorrect) / float(num_calls) * 100.0\n",
    "num_calls_incorrect_per_game = float(num_calls_incorrect) / float(num_games)"
   ]
  },
  {
   "cell_type": "code",
   "execution_count": 5,
   "metadata": {
    "collapsed": false
   },
   "outputs": [],
   "source": [
    "# calls incorrect per minute played\n",
    "data_with_quarter = data.compute([\n",
    "    ('quarter', agate.Formula(agate.Number(), lambda r: int(r['period'].replace('Q', '')))),\n",
    "    ('quarter_id', agate.Formula(agate.Text(), lambda r: r['game_id'] + '-' + r['period']))\n",
    "])\n",
    "\n",
    "# find total minutes played\n",
    "unique_quarters = data_with_quarter.distinct('quarter_id').select(['quarter'])\n",
    "\n",
    "def getMinutes(row):\n",
    "    if(row['quarter'] == 4):\n",
    "        return 2\n",
    "    return 5\n",
    "    \n",
    "quarter_minutes = unique_quarters.compute([\n",
    "    ('minutes_played', agate.Formula(agate.Number(), getMinutes))\n",
    "])\n",
    "\n",
    "minutes_played = int(quarter_minutes.aggregate(agate.Sum('minutes_played')))\n",
    "num_calls_incorrect_per_minute = float(num_calls_incorrect) / float(minutes_played)"
   ]
  },
  {
   "cell_type": "code",
   "execution_count": 6,
   "metadata": {
    "collapsed": true
   },
   "outputs": [],
   "source": [
    "# export summary data\n",
    "\n",
    "summary_column_names = ['key', 'value']\n",
    "summary_column_types = [agate.Text(), agate.Text()]\n",
    "\n",
    "summary_rows = [\n",
    "    ('num_games', format(num_games, ',d')),\n",
    "    ('num_calls', format(num_calls, ',d')),\n",
    "    ('num_calls_incorrect', format(num_calls_incorrect, ',d')),\n",
    "    ('minutes_played', format(minutes_played, ',d')),\n",
    "    ('percent_incorrect', format(percent_incorrect, '.1f')),\n",
    "    ('num_calls_incorrect_per_game', format(num_calls_incorrect_per_game, '.2f')),\n",
    "    ('num_calls_incorrect_per_minute', format(num_calls_incorrect_per_minute, '.2f')),\n",
    "]\n",
    "\n",
    "summary_table = agate.Table(summary_rows, summary_column_names, summary_column_types)\n",
    "summary_table.to_csv('output/web_summary.csv')"
   ]
  },
  {
   "cell_type": "code",
   "execution_count": 7,
   "metadata": {
    "collapsed": false
   },
   "outputs": [],
   "source": [
    "# home / away\n",
    "def hasLocationAdvantage(row, location):\n",
    "    d = row['disadvantaged_team']\n",
    "    c = row['committing_team']\n",
    "    r = row['review_decision']\n",
    "    l = row[location]\n",
    "    if (c == l and r == 'INC'):\n",
    "        return True\n",
    "    elif (d == l and r == 'IC'):\n",
    "        return True\n",
    "    return False\n",
    "    \n",
    "home_advantage = incorrect.where(lambda r: hasLocationAdvantage(r, 'home'))\n",
    "away_advantage = incorrect.where(lambda r: hasLocationAdvantage(r, 'away'))\n",
    "\n",
    "num_home_advantage = len(home_advantage.rows)\n",
    "num_away_advantage = len(away_advantage.rows)\n",
    "\n",
    "location_column_names = ['key', 'value']\n",
    "location_column_types = [agate.Text(), agate.Text()]\n",
    "location_rows = [\n",
    "    ('num_home_advantage', num_home_advantage),\n",
    "    ('num_away_advantage', num_away_advantage),\n",
    "]\n",
    "location_table = agate.Table(location_rows, location_column_names, location_column_types)\n",
    "location_table.to_csv('output/web_location.csv')"
   ]
  },
  {
   "cell_type": "code",
   "execution_count": 8,
   "metadata": {
    "collapsed": false
   },
   "outputs": [],
   "source": [
    "#latest games\n",
    "sorted_date = data.order_by('date', reverse=True)\n",
    "last_date = sorted_date.rows[0]['date']\n",
    "recent_games = data.where(lambda r: r['date'] == last_date)\n",
    "exclude_recent = ['away', 'box_score_url', 'date', 'home', 'original_pdf', 'ref_1', 'ref_2', 'ref_3', 'score_away', 'score_home']\n",
    "recent_games.exclude(exclude_recent).to_csv('output/web_recent.csv')"
   ]
  },
  {
   "cell_type": "code",
   "execution_count": 9,
   "metadata": {
    "collapsed": false
   },
   "outputs": [],
   "source": [
    "# decision breakdown\n",
    "by_decision = data.group_by('review_decision')\n",
    "\n",
    "decision_totals = by_decision.aggregate([\n",
    "    ('count', agate.Count())\n",
    "]).where(lambda r: r['review_decision'] is not None)\n",
    "\n",
    "# decision_totals.order_by('count', reverse=True).print_table()\n",
    "\n",
    "decision_totals.to_csv('output/web_decision.csv')"
   ]
  },
  {
   "cell_type": "code",
   "execution_count": 10,
   "metadata": {
    "collapsed": false
   },
   "outputs": [],
   "source": [
    "# call type breakdown\n",
    "# by_call = incorrect.group_by('call_type')\n",
    "\n",
    "# call_totals = by_call.aggregate([\n",
    "#     ('count', agate.Count())\n",
    "# ])\n",
    "\n",
    "# call_totals.order_by('count', reverse=True).print_table(max_column_width=100,max_rows=100)\n",
    "\n",
    "# inc\n",
    "by_call_inc = inc.group_by('call_type')\n",
    "\n",
    "call_totals_inc = by_call_inc.aggregate([\n",
    "    ('count_inc', agate.Count())\n",
    "])\n",
    "\n",
    "# call_totals_inc.order_by('count_inc', reverse=True).print_table(max_column_width=100,max_rows=10)\n",
    "\n",
    "# ic\n",
    "by_call_ic = ic.group_by('call_type')\n",
    "\n",
    "call_totals_ic = by_call_ic.aggregate([\n",
    "    ('count_ic', agate.Count())\n",
    "])\n",
    "\n",
    "# call_totals_ic.order_by('count_ic', reverse=True).print_table(max_column_width=100,max_rows=5)\n",
    "\n",
    "call_totals_merged = call_totals_inc.join(call_totals_ic, 'call_type','call_type')\n",
    "\n",
    "def addCallTypes(row):\n",
    "    count_ic = 0 if row['count_ic'] is None else row['count_ic']\n",
    "    count_inc = 0 if row['count_inc'] is None else row['count_inc']\n",
    "    return count_ic + count_inc\n",
    "    \n",
    "call_totals_all = call_totals_merged.compute([\n",
    "    ('count', agate.Formula(agate.Number(), addCallTypes))\n",
    "]).order_by('count', reverse=True)\n",
    "\n",
    "call_totals_all.to_csv('output/web_call_types.csv')"
   ]
  },
  {
   "cell_type": "code",
   "execution_count": 11,
   "metadata": {
    "collapsed": false
   },
   "outputs": [],
   "source": [
    "# when wrong calls happen (in last 2 minutes)\n",
    "in_last_two = incorrect.where(lambda r: float(r['seconds_left']) < 120)\n",
    "\n",
    "with_bin = in_last_two.compute([\n",
    "    ('seconds_left_bin', agate.Formula(agate.Number(), lambda r: math.floor(float(r['seconds_left']) / 10) ))\n",
    "])\n",
    "\n",
    "by_bin = with_bin.group_by('seconds_left_bin')\n",
    "\n",
    "\n",
    "counts_bin = by_bin.aggregate([\n",
    "    ('count', agate.Count())\n",
    "]).order_by('seconds_left_bin')\n",
    "\n",
    "\n",
    "# counts_bin.line_chart('seconds_left_bin', 'count')\n",
    "\n",
    "counts_bin.to_csv('output/web_when.csv')\n"
   ]
  },
  {
   "cell_type": "code",
   "execution_count": 12,
   "metadata": {
    "collapsed": false
   },
   "outputs": [],
   "source": [
    "# worst ref\n",
    "ref_dict = {}\n",
    "\n",
    "def update_ref_dict(str):\n",
    "    names = str.split(',')\n",
    "    for name in names:\n",
    "        ref_dict.setdefault(name, 0)\n",
    "        ref_dict[name] += 1\n",
    "\n",
    "by_ref = data.where(lambda r: r['ref_made_call'] is not None)\n",
    "\n",
    "for row in by_ref.rows:\n",
    "    update_ref_dict(row['ref_made_call'])\n",
    "\n",
    "ref_table = agate.Table(ref_dict.items(),column_names=['name', 'count']).order_by('name').order_by('count', reverse=True)\n",
    "\n",
    "# ref_table.print_table(max_rows=100)\n",
    "\n",
    "# ref_count.order_by('count', reverse=True).print_table(max_column_width=100,max_rows=100)\n",
    "\n",
    "ref_table.to_csv('output/web_ref.csv')"
   ]
  },
  {
   "cell_type": "code",
   "execution_count": 14,
   "metadata": {
    "collapsed": false
   },
   "outputs": [],
   "source": [
    "# star treatment\n",
    "\n",
    "# got away with calls (INC + committing)\n",
    "by_player_for_inc = inc.where(lambda r: r['committing_player'] is not None).group_by('committing_player')\n",
    "count_player_for1 = by_player_for_inc.aggregate([\n",
    "    ('count_inc', agate.Count())\n",
    "])\n",
    "\n",
    "# or got calls (IC + disadvantaged)\n",
    "by_player_for_ic = ic.where(lambda r: r['disadvantaged_player'] is not None).group_by('disadvantaged_player')\n",
    "count_player_for2 = by_player_for_ic.aggregate([\n",
    "    ('count_ic', agate.Count())\n",
    "])\n",
    "\n",
    "# count_player_for1.order_by('count_inc', reverse=True).print_table()\n",
    "# count_player_for2.order_by('count_ic', reverse=True).print_table()\n",
    "\n",
    "count_player_for_joined = count_player_for1.join(count_player_for2, 'committing_player', 'disadvantaged_player')\n",
    "\n",
    "count_player_for_renamed = count_player_for_joined.rename(column_names=['player', 'count_for_inc', 'count_for_ic'])\n",
    "\n",
    "def addCountFor(row):\n",
    "    count_ic = 0 if row['count_for_ic'] is None else row['count_for_ic']\n",
    "    count_inc = 0 if row['count_for_inc'] is None else row['count_for_inc']\n",
    "    return count_ic + count_inc\n",
    "\n",
    "count_player_for = count_player_for_renamed.compute([\n",
    "    ('count_for', agate.Formula(agate.Number(), addCountFor))\n",
    "])\n",
    "\n",
    "# count_player_for.order_by('count_for', reverse=True).print_table()"
   ]
  },
  {
   "cell_type": "code",
   "execution_count": 13,
   "metadata": {
    "collapsed": false
   },
   "outputs": [],
   "source": [
    "#anti-star treatment\n",
    "# did not get call they shouldve (INC + disadvantaged)\n",
    "by_player_against_inc = inc.where(lambda r: r['disadvantaged_player'] is not None).group_by('disadvantaged_player')\n",
    "count_player_against1 = by_player_against_inc.aggregate([\n",
    "    ('count_inc', agate.Count())\n",
    "])\n",
    "\n",
    "# called wrongly (IC + committing)\n",
    "by_player_against_ic = ic.where(lambda r: r['committing_player'] is not None).group_by('committing_player')\n",
    "count_player_against2 = by_player_against_ic.aggregate([\n",
    "    ('count_ic', agate.Count())\n",
    "])\n",
    "\n",
    "# count_player_against1.order_by('count_inc', reverse=True).print_table()\n",
    "# count_player_against2.order_by('count_ic', reverse=True).print_table()\n",
    "\n",
    "count_player_against_joined = count_player_against1.join(count_player_against2, 'disadvantaged_player', 'committing_player')\n",
    "\n",
    "count_player_against_renamed = count_player_against_joined.rename(column_names=['player', 'count_against_inc', 'count_against_ic'])\n",
    "\n",
    "def addCountAgainst(row):\n",
    "    count_ic = 0 if row['count_against_ic'] is None else row['count_against_ic']\n",
    "    count_inc = 0 if row['count_against_inc'] is None else row['count_against_inc']\n",
    "    return count_ic + count_inc\n",
    "\n",
    "count_player_against = count_player_against_renamed.compute([\n",
    "    ('count_against', agate.Formula(agate.Number(), addCountAgainst))\n",
    "])\n",
    "\n",
    "# count_player_against.order_by('count_against', reverse=True).print_table()"
   ]
  },
  {
   "cell_type": "code",
   "execution_count": 15,
   "metadata": {
    "collapsed": false
   },
   "outputs": [],
   "source": [
    "# join star tables\n",
    "count_player = count_player_for.join(count_player_against, 'player', 'player')\n",
    "\n",
    "def addPlayerNet(row):\n",
    "    count_for = 0 if row['count_for'] is None else row['count_for']\n",
    "    count_against = 0 if row['count_against'] is None else row['count_against']\n",
    "    return count_for - count_against\n",
    "\n",
    "count_player_with_net = count_player.compute([\n",
    "    ('net', agate.Formula(agate.Number(), addPlayerNet))\n",
    "]).order_by('net', reverse=True)\n",
    "\n",
    "\n",
    "count_player_with_net.to_csv('output/web_player.csv')"
   ]
  },
  {
   "cell_type": "code",
   "execution_count": 18,
   "metadata": {
    "collapsed": false
   },
   "outputs": [
    {
     "name": "stdout",
     "output_type": "stream",
     "text": [
      "| team | count_for_inc | count_for_ic | count_for |\n",
      "| ---- | ------------- | ------------ | --------- |\n",
      "| HOU  |            60 |            5 |        65 |\n",
      "| DAL  |            53 |           10 |        63 |\n",
      "| MIN  |            49 |           10 |        59 |\n",
      "| NYK  |            56 |            2 |        58 |\n",
      "| TOR  |            56 |            2 |        58 |\n",
      "| WAS  |            48 |            7 |        55 |\n",
      "| MIA  |            46 |            6 |        52 |\n",
      "| MEM  |            45 |            6 |        51 |\n",
      "| DEN  |            40 |           10 |        50 |\n",
      "| ATL  |            42 |            7 |        49 |\n",
      "| OKC  |            45 |            3 |        48 |\n",
      "| IND  |            37 |           10 |        47 |\n",
      "| SAC  |            39 |            6 |        45 |\n",
      "| NOP  |            38 |            6 |        44 |\n",
      "| BKN  |            41 |            2 |        43 |\n",
      "| POR  |            36 |            5 |        41 |\n",
      "| GSW  |            38 |            3 |        41 |\n",
      "| CHI  |            32 |            7 |        39 |\n",
      "| CLE  |            34 |            4 |        38 |\n",
      "| PHO  |            34 |            4 |        38 |\n",
      "| ORL  |            31 |            6 |        37 |\n",
      "| MIL  |            33 |            4 |        37 |\n",
      "| DET  |            34 |            3 |        37 |\n",
      "| BOS  |            30 |            6 |        36 |\n",
      "| LAC  |            33 |            3 |        36 |\n",
      "| UTA  |            29 |            5 |        34 |\n",
      "| SAS  |            29 |            4 |        33 |\n",
      "| CHA  |            31 |            2 |        33 |\n",
      "| PHI  |            23 |            4 |        27 |\n",
      "| LAL  |            20 |            3 |        23 |\n"
     ]
    }
   ],
   "source": [
    "# teams\n",
    "# got away with calls (INC + committing)\n",
    "by_team_for_inc = inc.where(lambda r: r['committing_team'] is not None).group_by('committing_team')\n",
    "count_team_for1 = by_team_for_inc.aggregate([\n",
    "    ('count_inc', agate.Count())\n",
    "])\n",
    "\n",
    "# or got calls (IC + disadvantaged)\n",
    "by_team_for_ic = ic.where(lambda r: r['disadvantaged_team'] is not None).group_by('disadvantaged_team')\n",
    "count_team_for2 = by_team_for_ic.aggregate([\n",
    "    ('count_ic', agate.Count())\n",
    "])\n",
    "\n",
    "# count_team_for1.order_by('count_inc', reverse=True).print_table()\n",
    "# count_team_for2.order_by('count_ic', reverse=True).print_table()\n",
    "\n",
    "count_team_for_joined = count_team_for1.join(count_team_for2, 'committing_team', 'disadvantaged_team')\n",
    "\n",
    "count_team_for_renamed = count_team_for_joined.rename(column_names=['team', 'count_for_inc', 'count_for_ic'])\n",
    "\n",
    "def addCountFor(row):\n",
    "    count_ic = 0 if row['count_for_ic'] is None else row['count_for_ic']\n",
    "    count_inc = 0 if row['count_for_inc'] is None else row['count_for_inc']\n",
    "    return count_ic + count_inc\n",
    "\n",
    "count_team_for = count_team_for_renamed.compute([\n",
    "    ('count_for', agate.Formula(agate.Number(), addCountFor))\n",
    "])\n",
    "\n",
    "# count_team_for.order_by('count_for', reverse=True).print_table(max_rows=100)"
   ]
  },
  {
   "cell_type": "code",
   "execution_count": 19,
   "metadata": {
    "collapsed": false
   },
   "outputs": [
    {
     "name": "stdout",
     "output_type": "stream",
     "text": [
      "| team | count_against_inc | count_against_ic | count_against |\n",
      "| ---- | ----------------- | ---------------- | ------------- |\n",
      "| DAL  |                54 |               10 |            64 |\n",
      "| HOU  |                57 |                5 |            62 |\n",
      "| MEM  |                46 |                9 |            55 |\n",
      "| NYK  |                49 |                6 |            55 |\n",
      "| UTA  |                51 |                2 |            53 |\n",
      "| NOP  |                47 |                4 |            51 |\n",
      "| WAS  |                46 |                5 |            51 |\n",
      "| TOR  |                41 |                8 |            49 |\n",
      "| CLE  |                44 |                4 |            48 |\n",
      "| OKC  |                40 |                8 |            48 |\n",
      "| CHI  |                42 |                5 |            47 |\n",
      "| MIA  |                43 |                3 |            46 |\n",
      "| CHA  |                36 |                8 |            44 |\n",
      "| POR  |                41 |                3 |            44 |\n",
      "| BOS  |                38 |                6 |            44 |\n",
      "| GSW  |                37 |                6 |            43 |\n",
      "| PHO  |                39 |                4 |            43 |\n",
      "| PHI  |                38 |                4 |            42 |\n",
      "| IND  |                38 |                4 |            42 |\n",
      "| ATL  |                36 |                5 |            41 |\n",
      "| MIN  |                38 |                2 |            40 |\n",
      "| LAC  |                34 |                5 |            39 |\n",
      "| MIL  |                34 |                5 |            39 |\n",
      "| DEN  |                33 |                4 |            37 |\n",
      "| LAL  |                28 |                8 |            36 |\n",
      "| SAC  |                31 |                4 |            35 |\n",
      "| BKN  |                30 |                4 |            34 |\n",
      "| ORL  |                27 |                3 |            30 |\n",
      "| DET  |                22 |                6 |            28 |\n",
      "| SAS  |                21 |                5 |            26 |\n",
      "| ARL  |                 1 |                  |             1 |\n"
     ]
    }
   ],
   "source": [
    "# anti - team\n",
    "# did not get call they shouldve (INC + disadvantaged)\n",
    "by_team_against_inc = inc.where(lambda r: r['disadvantaged_team'] is not None).group_by('disadvantaged_team')\n",
    "count_team_against1 = by_team_against_inc.aggregate([\n",
    "    ('count_inc', agate.Count())\n",
    "])\n",
    "\n",
    "# called wrongly (IC + committing)\n",
    "by_team_against_ic = ic.where(lambda r: r['committing_team'] is not None).group_by('committing_team')\n",
    "count_team_against2 = by_team_against_ic.aggregate([\n",
    "    ('count_ic', agate.Count())\n",
    "])\n",
    "\n",
    "# count_team_against1.order_by('count_inc', reverse=True).print_table()\n",
    "# count_team_against2.order_by('count_ic', reverse=True).print_table()\n",
    "\n",
    "count_team_against_joined = count_team_against1.join(count_team_against2, 'disadvantaged_team', 'committing_team')\n",
    "\n",
    "count_team_against_renamed = count_team_against_joined.rename(column_names=['team', 'count_against_inc', 'count_against_ic'])\n",
    "\n",
    "def addCountAgainst(row):\n",
    "    count_ic = 0 if row['count_against_ic'] is None else row['count_against_ic']\n",
    "    count_inc = 0 if row['count_against_inc'] is None else row['count_against_inc']\n",
    "    return count_ic + count_inc\n",
    "\n",
    "count_team_against = count_team_against_renamed.compute([\n",
    "    ('count_against', agate.Formula(agate.Number(), addCountAgainst))\n",
    "])\n",
    "\n",
    "# count_team_against.order_by('count_against', reverse=True).print_table(max_rows=100)"
   ]
  },
  {
   "cell_type": "code",
   "execution_count": 20,
   "metadata": {
    "collapsed": false
   },
   "outputs": [],
   "source": [
    "# join teams\n",
    "count_team = count_team_for.join(count_team_against, 'team', 'team')\n",
    "\n",
    "def addTeamNet(row):\n",
    "    count_for = 0 if row['count_for'] is None else row['count_for']\n",
    "    count_against = 0 if row['count_against'] is None else row['count_against']\n",
    "    return count_for - count_against\n",
    "\n",
    "count_team_with_net = count_team.compute([\n",
    "    ('net', agate.Formula(agate.Number(), addTeamNet))\n",
    "]).order_by('net', reverse=True)\n",
    "\n",
    "\n",
    "count_team_with_net.to_csv('output/web_team.csv')"
   ]
  },
  {
   "cell_type": "code",
   "execution_count": null,
   "metadata": {
    "collapsed": true
   },
   "outputs": [],
   "source": []
  }
 ],
 "metadata": {
  "anaconda-cloud": {},
  "kernelspec": {
   "display_name": "Python [Root]",
   "language": "python",
   "name": "Python [Root]"
  },
  "language_info": {
   "codemirror_mode": {
    "name": "ipython",
    "version": 3
   },
   "file_extension": ".py",
   "mimetype": "text/x-python",
   "name": "python",
   "nbconvert_exporter": "python",
   "pygments_lexer": "ipython3",
   "version": "3.5.2"
  }
 },
 "nbformat": 4,
 "nbformat_minor": 0
}
