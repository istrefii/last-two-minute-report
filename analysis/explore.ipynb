{
 "cells": [
  {
   "cell_type": "code",
   "execution_count": 1,
   "metadata": {
    "collapsed": true
   },
   "outputs": [],
   "source": [
    "import agate"
   ]
  },
  {
   "cell_type": "code",
   "execution_count": 2,
   "metadata": {
    "collapsed": true
   },
   "outputs": [],
   "source": [
    "specified_types = {\n",
    "    'period': agate.Text(),\n",
    "    'time': agate.Text(),\n",
    "    'seconds_left': agate.Number(),\n",
    "    'call_type': agate.Text(),\n",
    "    'committing_player': agate.Text(),\n",
    "    'disadvantaged_player': agate.Text(),\n",
    "    'review_decision': agate.Text(),\n",
    "    'comment': agate.Text(),\n",
    "    'video': agate.Text(),\n",
    "    'committing_team': agate.Text(),\n",
    "    'disadvantaged_team': agate.Text(),\n",
    "    'id': agate.Text(),\n",
    "    'away': agate.Text(),\n",
    "    'home': agate.Text(),\n",
    "    'date': agate.Text(),\n",
    "    'ref_1': agate.Text(),\n",
    "    'ref_2': agate.Text(),\n",
    "    'ref_3': agate.Text(),\n",
    "    'score_away': agate.Number(),\n",
    "    'score_home': agate.Number(),\n",
    "    'original_pdf': agate.Text(),\n",
    "}\n",
    "\n",
    "data = agate.Table.from_csv('../output/all_games.csv', column_types=specified_types)"
   ]
  },
  {
   "cell_type": "code",
   "execution_count": 3,
   "metadata": {
    "collapsed": false
   },
   "outputs": [
    {
     "name": "stdout",
     "output_type": "stream",
     "text": [
      "| review_decision | count |\n",
      "| --------------- | ----- |\n",
      "| CNC             | 5,970 |\n",
      "| CC              | 4,163 |\n",
      "| INC             | 1,117 |\n",
      "|                 |   551 |\n",
      "| IC              |   158 |\n"
     ]
    }
   ],
   "source": [
    "# decision breakdown\n",
    "by_decision = data.group_by('review_decision')\n",
    "\n",
    "decision_totals = by_decision.aggregate([\n",
    "    ('count', agate.Count())\n",
    "])\n",
    "\n",
    "decision_totals.order_by('count', reverse=True).print_table()"
   ]
  },
  {
   "cell_type": "code",
   "execution_count": 16,
   "metadata": {
    "collapsed": false
   },
   "outputs": [
    {
     "name": "stdout",
     "output_type": "stream",
     "text": [
      "| call_type            | count |\n",
      "| -------------------- | ----- |\n",
      "| Foul: Personal       | 3,526 |\n",
      "| Foul: Shooting       | 3,117 |\n",
      "| Foul: Offensive      | 2,063 |\n",
      "| Foul: Loose Ball     |   931 |\n",
      "| Turnover: Traveling  |   523 |\n",
      "| Instant Replay: S... |   478 |\n",
      "| Foul: Defense 3 S... |   165 |\n",
      "| Foul: Personal Take  |   143 |\n",
      "| Instant Replay: O... |   139 |\n",
      "| Turnover: 24 Seco... |    99 |\n",
      "| Turnover: 3 Secon... |    75 |\n",
      "| Stoppage: Out-of-... |    71 |\n",
      "| Turnover: 5 Secon... |    67 |\n",
      "| Violation: Defens... |    51 |\n",
      "| Foul: Away from Play |    51 |\n",
      "| Violation: Kicked... |    48 |\n",
      "| Violation: Lane      |    42 |\n",
      "| Turnover: Stepped... |    41 |\n",
      "| Foul: Technical      |    32 |\n",
      "| Video                |    27 |\n",
      "| Turnover: Backcou... |    25 |\n",
      "| Turnover: Out of ... |    22 |\n",
      "| Violation: Delay ... |    20 |\n",
      "| Turnover: Offensi... |    19 |\n",
      "| Turnover: Palming    |    19 |\n",
      "| Other                |    17 |\n",
      "| Turnover: Double ... |    17 |\n",
      "| Foul: Inbound        |    11 |\n",
      "| Foul: Double Pers... |    10 |\n",
      "| Violation: Jump Ball |     8 |\n",
      "| Foul: Clear Path     |     8 |\n",
      "| Foul: Flagrant Ty... |     6 |\n",
      "| Turnover: Inbound... |     5 |\n",
      "| Turnover: 8 Secon... |     4 |\n",
      "| Foul: Double Tech... |     4 |\n",
      "| Turnover: Kicked ... |     4 |\n",
      "| Ejection: Second ... |     3 |\n",
      "| Turnover: Lost Ba... |     3 |\n",
      "| Turnover: Illegal... |     3 |\n",
      "| Violation: Double... |     3 |\n",
      "|                      |     3 |\n",
      "| Turnover: Discont... |     3 |\n",
      "| Jump Ball            |     2 |\n",
      "| Turnover: Jump Ba... |     2 |\n",
      "| Foul: Delay Techn... |     2 |\n",
      "| Turnover: 10 Seco... |     2 |\n",
      "| Turnover: Lane Vi... |     2 |\n",
      "| Turnover: 5 Secon... |     2 |\n",
      "| Turnover: Punched... |     2 |\n",
      "| Foul: Punching       |     1 |\n",
      "| Stoppage: Other      |     1 |\n",
      "| Other: Timeout       |     1 |\n",
      "| Violation: Other     |     1 |\n",
      "| Shot Clock           |     1 |\n",
      "| Turnover: Illegal... |     1 |\n",
      "| Other: Jump Ball     |     1 |\n"
     ]
    }
   ],
   "source": [
    "# call type breakdown\n",
    "by_call = data.group_by('call_type')\n",
    "\n",
    "call_totals = by_call.aggregate([\n",
    "    ('count', agate.Count())\n",
    "])\n",
    "\n",
    "call_totals.order_by('count', reverse=True).print_table(max_rows=100)"
   ]
  },
  {
   "cell_type": "code",
   "execution_count": null,
   "metadata": {
    "collapsed": true
   },
   "outputs": [],
   "source": []
  }
 ],
 "metadata": {
  "anaconda-cloud": {},
  "kernelspec": {
   "display_name": "Python [Root]",
   "language": "python",
   "name": "Python [Root]"
  },
  "language_info": {
   "codemirror_mode": {
    "name": "ipython",
    "version": 3
   },
   "file_extension": ".py",
   "mimetype": "text/x-python",
   "name": "python",
   "nbconvert_exporter": "python",
   "pygments_lexer": "ipython3",
   "version": "3.5.2"
  }
 },
 "nbformat": 4,
 "nbformat_minor": 0
}
